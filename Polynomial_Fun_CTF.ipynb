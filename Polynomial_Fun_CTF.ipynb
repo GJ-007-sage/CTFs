{
  "nbformat": 4,
  "nbformat_minor": 0,
  "metadata": {
    "colab": {
      "provenance": [],
      "authorship_tag": "ABX9TyPJ+i8dXyW7gxWDn3lD/BGs",
      "include_colab_link": true
    },
    "kernelspec": {
      "name": "python3",
      "display_name": "Python 3"
    },
    "language_info": {
      "name": "python"
    }
  },
  "cells": [
    {
      "cell_type": "markdown",
      "metadata": {
        "id": "view-in-github",
        "colab_type": "text"
      },
      "source": [
        "<a href=\"https://colab.research.google.com/github/GJ-007-sage/CTFs/blob/main/Polynomial_Fun_CTF.ipynb\" target=\"_parent\"><img src=\"https://colab.research.google.com/assets/colab-badge.svg\" alt=\"Open In Colab\"/></a>"
      ]
    },
    {
      "cell_type": "code",
      "execution_count": 1,
      "metadata": {
        "id": "UUvSiypmX0LW"
      },
      "outputs": [],
      "source": [
        "from sympy import cbrt"
      ]
    },
    {
      "cell_type": "code",
      "source": [
        "from sympy import cbrt\n",
        "\n",
        "# Given ciphertext1 (in hex) and modulus (n)\n",
        "c1 = int('181c5d1a2ce0141c5a1a4a2dc4e84286d4c308d8d1dac49ce80bf2aaadb978ac4feecabb5f7e08a5166ef002f96a6477f7f423893a28b4e669597429b8c85425f39618605cffd2698ab162903e6e957b5474764490b50594056dfb3d01ce1a3df5bd5d7bea4f5117a5443a10fcdebc3191c97ccbfcad6edda68c121f991a05c237926765', 16)\n",
        "n = 22087832419565986427268363917810894541062483207261762193508970044650768811312686392195850751527300135215342753273285793650604515808742281578193812636838119346868541626468641365629075925706791154570861634755087596923946492447077346071402179652403109079126512759658482838653777885974742868784557801802724402274540195665776367414645344670252492037549644132490724527942104987623056047222187858087057702030560111758736415303393204221251167046834099441736337651100031671882520662432134759116648301483061929371138433092262181741668879404220827735988759531366988656404795071483497159626838620232927659615985141983241023806659\n",
        "\n",
        "# Attempt cube root attack\n",
        "plaintext_int = int(cbrt(c1))  # Convert to standard Python int\n",
        "\n",
        "# Convert the integer plaintext to bytes\n",
        "plaintext = plaintext_int.to_bytes((plaintext_int.bit_length() + 7) // 8, byteorder=\"big\").decode(errors='ignore')\n",
        "\n",
        "print(\"Recovered plaintext:\", plaintext)"
      ],
      "metadata": {
        "colab": {
          "base_uri": "https://localhost:8080/"
        },
        "id": "vICp_ZEQYV9j",
        "outputId": "a1992a29-235e-45de-c542-4a6004778c54"
      },
      "execution_count": 3,
      "outputs": [
        {
          "output_type": "stream",
          "name": "stdout",
          "text": [
            "Recovered plaintext: tyroCTF{1_0nc3_kn3w_4_wr173r_n4m3d_fr4nkl1n}\n"
          ]
        }
      ]
    },
    {
      "cell_type": "markdown",
      "source": [
        "This challenge seems to involve an RSA encryption vulnerability, particularly related to the absence of padding in the encryption process, and the manipulation of polynomials. Here's a breakdown of what seems important:\n",
        "\n",
        "Key Aspects of the Problem:\n",
        "RSA Encryption Without Padding:\n",
        "\n",
        "The flag is encrypted directly using RSA without any padding (like OAEP or PKCS#1), which opens up potential vulnerabilities like textbook RSA attacks (e.g., small exponent attacks, common modulus attacks).\n",
        "Public exponent e = 3, which might indicate susceptibility to attacks based on small public exponents.\n",
        "Polynomial Evaluation:\n",
        "\n",
        "A random polynomial is generated and evaluated at two different inputs provided by the user.\n",
        "This could provide some insight into recovering the coefficients of the polynomial or, indirectly, some information about the modulus or ciphertext.\n",
        "Two Ciphertexts:\n",
        "\n",
        "Two ciphertexts are provided, and it appears that ciphertext2 is derived from applying the polynomial to the flag integer (int_2 is the polynomial evaluated at flag_int).\n",
        "Potential Attack Strategies:\n",
        "RSA Vulnerabilities:\n",
        "\n",
        "Low Exponent Attack: Since e = 3, if the message (flag_int) is small enough, an attack like a cube root attack could be feasible. Essentially, if message^3 < n, you could recover the message by simply taking the cube root of the ciphertext.\n",
        "Hastad’s Broadcast Attack: If multiple ciphertexts with the same plaintext are encrypted with the same exponent (e=3) but under different moduli, this attack can be used to recover the plaintext.\n",
        "Polynomial Information:\n",
        "\n",
        "Since the challenge involves a polynomial function and evaluates it at two points, it might be useful to try and deduce something about the relationship between x, y, and flag_int. If f(x) or f(y) provides a meaningful connection to flag_int, it could provide leverage for decryption."
      ],
      "metadata": {
        "id": "jB0u4fUdZdKG"
      }
    },
    {
      "cell_type": "markdown",
      "source": [
        "Steps to Approach:\n",
        "Analyze the Modulus and Ciphertexts:\n",
        "\n",
        "Connect to the provided server, retrieve the modulus (n) and both ciphertexts, and try common RSA decryption techniques for small exponents (e=3).\n",
        "Polynomial Analysis:\n",
        "\n",
        "Try evaluating the polynomial at various points to see if there's a pattern that relates to the modulus or the flag integer (flag_int).\n",
        "Use the values of f(x) and f(y) modulo n to reverse-engineer the polynomial or at least understand its role in the encryption process.\n",
        "Check for Small Flag:\n",
        "\n",
        "If the flag is small enough, taking cube roots of the ciphertext might reveal the plaintext directly."
      ],
      "metadata": {
        "id": "_0TBR-Y_Zp-m"
      }
    },
    {
      "cell_type": "markdown",
      "source": [
        "Steps to Solve the Challenge:\n",
        "Evaluate Polynomial at Two Points:\n",
        "\n",
        "The server is asking for two inputs (x and y) to evaluate the polynomial at those points.\n",
        "Provide any random integers for x and y and note down the results of f(x) and f(y).\n",
        "Collect the Modulus and Ciphertexts:\n",
        "\n",
        "After inputting x and y, the server will likely return two ciphertexts as well. Collect these along with the modulus n that has already been provided.\n",
        "Understand Polynomial's Role:\n",
        "\n",
        "Since ciphertext2 is derived from the polynomial evaluated at the flag_int (the flag encoded as an integer), the polynomial is manipulating flag_int in some way before encryption.\n",
        "The challenge may be to reverse-engineer the polynomial or use the polynomial’s properties (evaluated at two points, x and y) to infer information about the flag.\n",
        "RSA Decryption (Potential Low Exponent Attack):\n",
        "\n",
        "With e = 3 and no padding, a cube root attack might work if the flag is small. Here's a Python snippet (above)"
      ],
      "metadata": {
        "id": "zrQMafu_Zsss"
      }
    },
    {
      "cell_type": "markdown",
      "source": [
        "Step 2: Investigate the Polynomial's Role: The polynomial evaluations might suggest that f(x) relates to the flag, but more importantly, ciphertext2 is the encryption of the polynomial applied to flag_int.\n",
        "\n",
        "With the results of f(x) and f(y) and the ciphertexts, you may be able to interpolate or deduce something about the relationship between the flag and the polynomial.\n",
        "\n",
        "Polynomial Simplification: Since f(x) at x = 0 gives 7, it seems like the constant term of the polynomial is 7. With f(1) = 204, the rest of the polynomial might be linear or low-degree.\n",
        "\n",
        "You can try recovering the coefficients of the polynomial using Lagrange interpolation or by simple manual inspection based on the small values returned.\n",
        "\n",
        "Step 3: Use Relationship Between Ciphertexts: If you figure out the polynomial coefficients, you could infer the structure of f(flag_int) and relate it to ciphertext2. This could give you insights into recovering flag_int from ciphertext2 as well."
      ],
      "metadata": {
        "id": "taCToasOZ6u0"
      }
    },
    {
      "cell_type": "markdown",
      "source": [],
      "metadata": {
        "id": "wL9IHYETaBNo"
      }
    }
  ]
}